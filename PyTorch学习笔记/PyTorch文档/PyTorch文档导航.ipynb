{
 "cells": [
  {
   "cell_type": "markdown",
   "metadata": {},
   "source": [
    "# PyTorch文档\n",
    "PyTorch是一个使用gpu和cpu进行深度学习的优化张量库。\n",
    "## Notes\n",
    "- [Autograd 机制](介绍/1.Autograd机制.ipynb)\n",
    "- [Broadcasting语义](介绍/2.Broadcasting语义.ipynb)\n",
    "- [Cuda语义](介绍/3.Cuda语义.ipynb)\n",
    "- [PyTorch扩展](介绍/4.PyTorch扩展.ipynb)\n",
    "- [常见问题](介绍/5.常见问题.ipynb)\n",
    "- [多进程的最佳实践](介绍/6.多进程的最佳实践.ipynb)\n",
    "- [序列化语义](介绍/7.序列化语义.ipynb)\n",
    "## Package Reference\n",
    "## torchvision Reference\n",
    "## Indices and tables"
   ]
  },
  {
   "cell_type": "code",
   "execution_count": null,
   "metadata": {},
   "outputs": [],
   "source": []
  }
 ],
 "metadata": {
  "kernelspec": {
   "display_name": "Python 3",
   "language": "python",
   "name": "python3"
  },
  "language_info": {
   "codemirror_mode": {
    "name": "ipython",
    "version": 3
   },
   "file_extension": ".py",
   "mimetype": "text/x-python",
   "name": "python",
   "nbconvert_exporter": "python",
   "pygments_lexer": "ipython3",
   "version": "3.6.2"
  }
 },
 "nbformat": 4,
 "nbformat_minor": 2
}
