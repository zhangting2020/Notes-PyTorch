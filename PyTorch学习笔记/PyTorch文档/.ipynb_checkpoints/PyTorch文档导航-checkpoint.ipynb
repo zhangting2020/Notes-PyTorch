{
 "cells": [
  {
   "cell_type": "markdown",
   "metadata": {},
   "source": [
    "# PyTorch文档\n",
    "PyTorch是一个使用gpu和cpu进行深度学习的优化张量库。\n",
    "## Notes\n",
    "- [Autograd 机制](1.Autograd机制.ipynb)\n",
    "- [Broadcasting语义](2.Broadcasting语义.ipynb)\n",
    "- [Cuda语义](3.Cuda语义)\n",
    "## Package Reference\n",
    "## torchvision Reference\n",
    "## Indices and tables"
   ]
  },
  {
   "cell_type": "code",
   "execution_count": null,
   "metadata": {},
   "outputs": [],
   "source": []
  }
 ],
 "metadata": {
  "kernelspec": {
   "display_name": "Python 3",
   "language": "python",
   "name": "python3"
  },
  "language_info": {
   "codemirror_mode": {
    "name": "ipython",
    "version": 3
   },
   "file_extension": ".py",
   "mimetype": "text/x-python",
   "name": "python",
   "nbconvert_exporter": "python",
   "pygments_lexer": "ipython3",
   "version": "3.6.2"
  }
 },
 "nbformat": 4,
 "nbformat_minor": 2
}
