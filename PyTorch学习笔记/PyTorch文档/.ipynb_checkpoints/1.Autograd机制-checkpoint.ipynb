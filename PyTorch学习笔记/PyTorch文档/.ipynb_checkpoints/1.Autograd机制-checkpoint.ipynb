{
 "cells": [
  {
   "cell_type": "markdown",
   "metadata": {},
   "source": [
    "# 自动求导机制\n",
    "\n",
    "本文将概述autograd如何工作和记录操作。并不需要理解全部，但是建议你熟悉它，因为它将帮助你编写更高效、更干净的程序，并帮助你进行调试。\n"
   ]
  },
  {
   "cell_type": "markdown",
   "metadata": {},
   "source": [
    "## 从反向传播中排除子图(subgraphs)\n",
    "每个张量都有一个标志`requiresgrad`，它允许从梯度计算中细粒度地排除子图，并且可以提高效率。\n",
    "\n",
    "如果有一个单一的输入操作需要梯度，它的输出也将需要计算梯度。相反，只有当所有输入都不需要梯度时，输出也不需要它。子图中所有的张量都不需要梯度时，子图中就永远不会执行反向传播计算。"
   ]
  },
  {
   "cell_type": "code",
   "execution_count": 9,
   "metadata": {},
   "outputs": [
    {
     "name": "stdout",
     "output_type": "stream",
     "text": [
      "False\n",
      "True\n"
     ]
    }
   ],
   "source": [
    "import torch\n",
    "x = torch.randn(5, 5) # 默认情况下requires_grad=False\n",
    "y = torch.randn(5, 5)\n",
    "z = torch.randn((5, 5), requires_grad=True)\n",
    "a = x + y\n",
    "print(a.requires_grad)\n",
    "b = a + z\n",
    "print(b.requires_grad)"
   ]
  },
  {
   "cell_type": "markdown",
   "metadata": {},
   "source": [
    "当你想要冻结模型的一部分，或者你提前知道你不会使用一些参数的梯度时，这是特别有用的。举个例子，如果你想要微调一个预训练的CNN，只需在冻结模型的基础上切换`requires_grad`标记，在计算最后一层前都不会保存中间缓冲区，其中仿射转换将使用需要梯度的权重，并且网络的输出也将需要它们。\n",
    "```python\n",
    "model = torchvision.models.resnet18(pretrained=True)\n",
    "for param in model.parameters():\n",
    "    param.requires_grad = False\n",
    "# 替换最后一个全连接层\n",
    "# 新构造的模块的参数默认情况下：requires_grad=True\n",
    "model.fc = nn.Linear(512, 100)\n",
    "# 只优化分类器\n",
    "optimizer = optim.SGD(model.fc.parameters(), lr=1e-2, momentum=0.9)\n",
    "```\n"
   ]
  },
  {
   "cell_type": "markdown",
   "metadata": {},
   "source": [
    "## Autograd是如何编码历史的\n",
    "Autograd是反向自动微分系统。从概念上讲，autograd记录了一个图，这个图记录了所有你在执行操作时创建数据的操作，一个有向无环图它的叶结点是输入张量和根结点是输出张量。通过跟踪从根到叶子的图，可以使用链式法则自动计算梯度。\n",
    "\n",
    "在内部，autograd将这个图表示为`Function`对象的图（真正的表达式）,可以通过`apply()`方法来计算评估图的结果。当计算前向传播时，autograd同时执行所请求的计算并建立一个表示梯度计算的函数的图。每一个`torch.Tensor`的属性`.grad_fn`是这个图的一个入口点。\n",
    "\n",
    "需要注意的是，在每次迭代中，都会重新创建一个图。这正是允许使用任意的Python控制流语句的原因，它可以在每次迭代中改变图的整体形状和大小。在你启动训练之前，你不需要对所有可能的路径进行编码——你所运行的是你所微分的东西。\n"
   ]
  },
  {
   "cell_type": "markdown",
   "metadata": {},
   "source": [
    "## Autograd的原地（in-place）操作\n",
    "在autograd支持原地操作是一件困难的事情，我们在大多数情况下都不鼓励使用它们。Autograd`主动的缓冲区释放`和`重用`使其非常高效，而且原地操作实际上很少能大量降低内存的使用。除非你在沉重的内存压力下工作，否则你可能永远不需要使用它们。\n",
    "\n",
    "有两个主要原因限制了原地操作的适用性：\n",
    "- 原地操作可能会覆盖计算梯度所需的值。\n",
    "- 每一个就地操作实际上都需要实现计算图的重写。out-of-place版本只是分配新对象，并保留对旧图的引用，而在原地操作中，则需要将所有输入的creator更改为代表该操作的函数。这可能很棘手，特别是如果有很多张量引用相同的存储空间的话(比如由索引或转置创建)。而且如果修改后的输入的内存被任何其他张量引用，那么原地函数实际上会产生一个错误。"
   ]
  },
  {
   "cell_type": "markdown",
   "metadata": {},
   "source": [
    "## 原地操作的正确性检查\n",
    "每个张量都保留一个版本计数器（version counter），每一次任何操作中被标记为dirty时，计数器就会递增。当一个函数保存反向传播的tensor时，还会保存其包含tensor的版本计数器。一旦访问`self.saved_tensors`时它将被检查, 如果它大于已保存的值, 则会引起错误。"
   ]
  },
  {
   "cell_type": "code",
   "execution_count": null,
   "metadata": {},
   "outputs": [],
   "source": []
  }
 ],
 "metadata": {
  "kernelspec": {
   "display_name": "Python 3",
   "language": "python",
   "name": "python3"
  },
  "language_info": {
   "codemirror_mode": {
    "name": "ipython",
    "version": 3
   },
   "file_extension": ".py",
   "mimetype": "text/x-python",
   "name": "python",
   "nbconvert_exporter": "python",
   "pygments_lexer": "ipython3",
   "version": "3.6.2"
  }
 },
 "nbformat": 4,
 "nbformat_minor": 2
}
