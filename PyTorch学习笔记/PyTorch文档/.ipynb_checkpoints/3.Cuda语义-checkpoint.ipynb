{
 "cells": [
  {
   "cell_type": "markdown",
   "metadata": {},
   "source": [
    "# Cuda语义\n",
    "`作者：Tina`\n",
    "`时间：2018-05-07`\n",
    "\n",
    "[torch-cuda](https://pytorch.org/docs/stable/cuda.html#module-torch.cuda)用于设置和运行CUDA操作。它会跟踪当前选中的GPU，而你分配的所有CUDA张量将默认在该设备上创建。选择的设备可以用[torch.cuda.device](https://pytorch.org/docs/stable/cuda.html#torch.cuda.device)上下文管理器来改变。\n",
    "\n",
    "然而，一旦一个张量被分配，你就可以对它进行操作，不管选择的设备是什么，结果总是会被放置在与张量相关的那个设备上。\n",
    "\n",
    "默认情况下，交叉gpu操作是不允许的，除了[copy_()](https://pytorch.org/docs/stable/tensors.html#torch.Tensor.copy_)以及其他具有复制功能的方法，例如[to()](https://pytorch.org/docs/stable/tensors.html#torch.Tensor.to)和[cuda()](https://pytorch.org/docs/stable/tensors.html#torch.Tensor.cuda)。除非你启用点对点内存访问，否则任何在不同设备上操作张量的尝试都会产生错误。\n",
    "\n",
    "下面是一个例子："
   ]
  },
  {
   "cell_type": "code",
   "execution_count": 8,
   "metadata": {},
   "outputs": [
    {
     "name": "stdout",
     "output_type": "stream",
     "text": [
      "c.device is:  cuda:1\n",
      "z.device is:  cuda:0\n",
      "d.device is : cuda:0\n"
     ]
    }
   ],
   "source": [
    "import torch\n",
    "cuda = torch.device('cuda')     # 默认的CUDA设备\n",
    "cuda0 = torch.device('cuda:0')\n",
    "cuda1 = torch.device('cuda:1')  # GPU 1 (these are 0-indexed)\n",
    "\n",
    "x = torch.tensor([1., 2.], device=cuda0)\n",
    "# x.device is device(type='cuda', index=0)\n",
    "y = torch.tensor([1., 2.]).cuda()\n",
    "# y.device is device(type='cuda', index=0)\n",
    "\n",
    "with torch.cuda.device(1):\n",
    "    # 在GPU1上分配一个张量\n",
    "    a = torch.tensor([1., 2.], device=cuda)\n",
    "\n",
    "    # 将一个张量从CPU转移到GPU 1\n",
    "    b = torch.tensor([1., 2.]).cuda()\n",
    "    # a.device和b.device都是(type='cuda', index=1)\n",
    "\n",
    "    # 也可以使用``Tensor.to`` 去转移一个tensor:\n",
    "    b2 = torch.tensor([1., 2.]).to(device=cuda)\n",
    "    # b.device and b2.device are device(type='cuda', index=1)\n",
    "\n",
    "    c = a + b\n",
    "    # c.device is device(type='cuda', index=1)\n",
    "    print(\"c.device is: \", c.device)\n",
    "    z = x + y\n",
    "    # z.device is device(type='cuda', index=0)\n",
    "    print(\"z.device is: \", z.device)\n",
    "\n",
    "    # 即使在一个上下文中，也可以指定设备\n",
    "    # (或者调用.cuda，参数转入一个索引)\n",
    "    d = torch.randn(2, device=cuda0)\n",
    "    e = torch.randn(2).to(cuda0)\n",
    "    f = torch.randn(2).cuda(cuda0)\n",
    "    print(\"d.device is :\", d.device)\n",
    "    # d.device, e.device, and f.device are all device(type='cuda', index=0)"
   ]
  },
  {
   "cell_type": "code",
   "execution_count": null,
   "metadata": {},
   "outputs": [],
   "source": []
  }
 ],
 "metadata": {
  "kernelspec": {
   "display_name": "Python 3",
   "language": "python",
   "name": "python3"
  },
  "language_info": {
   "codemirror_mode": {
    "name": "ipython",
    "version": 3
   },
   "file_extension": ".py",
   "mimetype": "text/x-python",
   "name": "python",
   "nbconvert_exporter": "python",
   "pygments_lexer": "ipython3",
   "version": "3.6.2"
  }
 },
 "nbformat": 4,
 "nbformat_minor": 2
}
