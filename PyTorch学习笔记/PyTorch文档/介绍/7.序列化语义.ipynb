{
 "cells": [
  {
   "cell_type": "markdown",
   "metadata": {},
   "source": [
    "# 序列化语义\n",
    "`作者：Tina`\n",
    "`时间：2018-05-08`"
   ]
  },
  {
   "cell_type": "markdown",
   "metadata": {},
   "source": [
    "## 最佳实践\n",
    "### 推荐的保存模型的方法\n",
    "序列化和恢复模型有两种主要方法:\n",
    "#### 第一个（推荐）只保存和加载模型参数\n",
    "```python\n",
    "torch.save(the_model.state_dict(), PATH)\n",
    "```\n",
    "然后：\n",
    "```python\n",
    "the_model = TheModelClass(*args, **kwargs)\n",
    "the_model.load_state_dict(torch.load(PATH))\n",
    "```\n",
    "#### 第二种方法是保存并加载整个模型\n",
    "```python\n",
    "torch.save(the_model, PATH)\n",
    "```\n",
    "然后：\n",
    "```python\n",
    "the_model = torch.load(PATH)\n",
    "```\n",
    "\n",
    "但是在这种情况下， 序列化的数据与特定的类和固定的目录结构绑定。所以当它被用于其他项目中, 或者经过一些重大的重构之后, 可能会以各种各样的方式崩掉。"
   ]
  }
 ],
 "metadata": {
  "kernelspec": {
   "display_name": "Python 3",
   "language": "python",
   "name": "python3"
  },
  "language_info": {
   "codemirror_mode": {
    "name": "ipython",
    "version": 3
   },
   "file_extension": ".py",
   "mimetype": "text/x-python",
   "name": "python",
   "nbconvert_exporter": "python",
   "pygments_lexer": "ipython3",
   "version": "3.6.2"
  }
 },
 "nbformat": 4,
 "nbformat_minor": 2
}
